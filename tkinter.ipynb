{
 "cells": [
  {
   "cell_type": "code",
   "execution_count": 5,
   "metadata": {},
   "outputs": [],
   "source": [
    "import numpy as np\n",
    "from tkinter import *\n",
    "from tkinter.messagebox import *\n",
    "from fuzzywuzzy import fuzz"
   ]
  },
  {
   "cell_type": "code",
   "execution_count": 4,
   "metadata": {},
   "outputs": [
    {
     "name": "stdout",
     "output_type": "stream",
     "text": [
      "<class 'str'>\n",
      "<class 'str'>\n"
     ]
    }
   ],
   "source": [
    "root=Tk()\n",
    "root.geometry(\"500x300\")\n",
    "root.title(\"Love between couple\")\n",
    "\n",
    "def love():\n",
    "    first_name =str(str1_txtbx.get())\n",
    "    second_name=str(str2_txtbx.get())\n",
    "    print(type(first_name))\n",
    "    if first_name==\"\" or second_name ==\"\":\n",
    "        messagebox.showinfo(\"it is mandatory to fill the box\",\"Warning!!!\")\n",
    "    elif first_name!=\"\" and second_name !=\"\":\n",
    "        love= fuzz.ratio(first_name,second_name)\n",
    "        if love>80:\n",
    "            messagebox.showinfo(str(love)+\"%\",\"The realationship is * Excellent *\")\n",
    "        elif 60<love<80:\n",
    "            messagebox.showinfo(str(love)+\"%\",\"The realationship is Very Good\")\n",
    "        elif 40<love<60:\n",
    "            messagebox.showinfo(str(love)+\"%\",\"The realationship is Bad \")\n",
    "        else:\n",
    "            love<=40\n",
    "            messagebox.showinfo(str(love)+\"%\",\"God Bless you My Child\")\n",
    "#     else:\n",
    "#         love=np.random.randint(1,100)\n",
    "#         messagebox.showinfo(str(love)+\"%\",\"God Bless you My Child\")\n",
    "            \n",
    "\n",
    "        \n",
    "\n",
    "lb1=Label(root,text=\"Enter your Nick name\",font=('Calibri',15,'bold'),fg=\"green\")\n",
    "str1_txtbx =Entry(root,font=('Calibri',20),highlightthickness=1,highlightcolor=\"red\")\n",
    "lb2=Label(root,text=\"Enter your Girlfriend  name\",font=('Calibri',15,'bold'),fg=\"green\")\n",
    "str2_txtbx =Entry(root,font=('Calibri',20),highlightthickness=1,highlightcolor=\"red\")\n",
    "\n",
    "\n",
    "\n",
    "lb1.grid(row=1,column=3)\n",
    "str1_txtbx.grid(row=2,column=3)\n",
    "lb2.grid(row=3,column=3)\n",
    "str2_txtbx.grid(row=4,column=3)\n",
    "\n",
    "bt3=Button(root,text=\"Love\",font=('chilanka',20,'bold'),fg=\"blue\",command=love)\n",
    "bt3.grid(rowspan=5,row=5,column=3,)\n",
    "\n",
    "# lb1.pack()\n",
    "# str1_txtbx.pack()\n",
    "# lb2.pack()\n",
    "# str2_txtbx.pack()\n",
    "# bt3.pack()\n",
    "\n",
    "\n",
    "root.mainloop()\n"
   ]
  },
  {
   "cell_type": "code",
   "execution_count": 6,
   "metadata": {},
   "outputs": [
    {
     "name": "stdout",
     "output_type": "stream",
     "text": [
      "enter the first name=Prateek\n",
      "enter the last name=\n",
      "it is mandatory to fill the box other wise she Hate you Warning!!!\n"
     ]
    }
   ],
   "source": [
    "import numpy as np\n",
    "first_name=str(input(\"enter the first name=\"))\n",
    "last_name=str(input(\"enter the last name=\"))\n",
    "if first_name==\"\" or last_name ==\"\":\n",
    "        print(\"it is mandatory to fill the box other wise she Hate you\",\"Warning!!!\")\n",
    "else:\n",
    "    luck=np.random.randint(1,100)\n",
    "    np.random.seed(10)\n",
    "    print(\"luck between two couple\",luck,\"%\")"
   ]
  },
  {
   "cell_type": "code",
   "execution_count": null,
   "metadata": {},
   "outputs": [],
   "source": []
  }
 ],
 "metadata": {
  "kernelspec": {
   "display_name": "Python 3",
   "language": "python",
   "name": "python3"
  },
  "language_info": {
   "codemirror_mode": {
    "name": "ipython",
    "version": 3
   },
   "file_extension": ".py",
   "mimetype": "text/x-python",
   "name": "python",
   "nbconvert_exporter": "python",
   "pygments_lexer": "ipython3",
   "version": "3.7.3"
  }
 },
 "nbformat": 4,
 "nbformat_minor": 2
}
